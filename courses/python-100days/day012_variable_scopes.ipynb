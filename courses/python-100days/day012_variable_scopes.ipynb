{
 "cells": [
  {
   "cell_type": "markdown",
   "metadata": {},
   "source": [
    "# Notes\n",
    "\n",
    "Python has **no local scope** - only global scope and function scope.\n",
    "\n",
    "*Should avoid* modifying global scope.  Reference only.\n",
    "\n",
    "To modify a global var you must first define it using `global`:\n",
    "```python\n",
    "g = 1\n",
    "def foo():\n",
    "    global g\n",
    "    g += 1\n",
    "```\n",
    "\n",
    "Global scope is useful for constants (use `UPPER_SNAKE_CASE`)\n",
    "\n",
    "\n"
   ]
  },
  {
   "cell_type": "markdown",
   "metadata": {},
   "source": [
    "# Exercises"
   ]
  },
  {
   "cell_type": "code",
   "execution_count": 2,
   "metadata": {},
   "outputs": [
    {
     "name": "stdout",
     "output_type": "stream",
     "text": [
      "All passed\n"
     ]
    }
   ],
   "source": [
    "def is_prime(num: int) -> bool:\n",
    "    if num <= 1:\n",
    "        return False\n",
    "    elif num == 2:\n",
    "        return True\n",
    "    elif num % 2 == 0:\n",
    "        return False\n",
    "    else:\n",
    "        for d in range(3, num, 2):\n",
    "            if num % d == 0:\n",
    "                return False\n",
    "    return True\n",
    "\n",
    "assert is_prime(0) == False\n",
    "assert is_prime(1) == False\n",
    "assert is_prime(2) == True\n",
    "assert is_prime(3) == True\n",
    "assert is_prime(4) == False\n",
    "assert is_prime(5) == True\n",
    "assert is_prime(6) == False\n",
    "assert is_prime(7) == True\n",
    "assert is_prime(8) == False\n",
    "assert is_prime(9) == False\n",
    "assert is_prime(10) == False\n",
    "assert is_prime(11) == True\n",
    "assert is_prime(12) == False\n",
    "assert is_prime(13) == True\n",
    "assert is_prime(14) == False\n",
    "assert is_prime(15) == False\n",
    "assert is_prime(16) == False\n",
    "assert is_prime(17) == True\n",
    "assert is_prime(19) == True\n",
    "assert is_prime(23) == True\n",
    "assert is_prime(29) == True\n",
    "print('All passed')"
   ]
  },
  {
   "cell_type": "markdown",
   "metadata": {},
   "source": [
    "# Project\n",
    "Guessing game"
   ]
  },
  {
   "cell_type": "code",
   "execution_count": 11,
   "metadata": {},
   "outputs": [
    {
     "name": "stdout",
     "output_type": "stream",
     "text": [
      "Welcome to number guessing game\n",
      "I'm thinking of a number between 1 and 100\n",
      "Too low\n",
      "You have 4 guesses remaining.\n",
      "Too low\n",
      "You have 3 guesses remaining.\n",
      "Too low\n",
      "You have 2 guesses remaining.\n",
      "Too low\n",
      "You have 1 guesses remaining.\n",
      "Too low\n",
      "You have 0 guesses remaining.\n",
      "It was 36\n"
     ]
    }
   ],
   "source": [
    "import random\n",
    "\n",
    "print(\"Welcome to number guessing game\")\n",
    "\n",
    "answer = random.randint(1, 100)\n",
    "print(\"I'm thinking of a number between 1 and 100\")\n",
    "\n",
    "difficulty = input(\"Choose a difficulty ('easy' or 'hard'):\")\n",
    "\n",
    "chances = 0\n",
    "if difficulty == \"easy\":\n",
    "    chances = 10\n",
    "elif difficulty == \"hard\":\n",
    "    chances = 5\n",
    "\n",
    "def run_game(chances):\n",
    "    guessed = False\n",
    "    while not guessed and chances > 0:\n",
    "        guess = int(input(\"What is your guess?\"))\n",
    "        if (guess == answer):\n",
    "            print(\"You guessed it!\")\n",
    "            return\n",
    "        elif guess > answer:\n",
    "            print(\"Too high\")\n",
    "        else:\n",
    "            print(\"Too low\")\n",
    "        chances -= 1\n",
    "        print(f\"You have {chances} guesses remaining.\")\n",
    "    print(f\"It was {answer}\")\n",
    "\n",
    "run_game(chances)\n",
    "        "
   ]
  }
 ],
 "metadata": {
  "kernelspec": {
   "display_name": "sandbox-5HNGGaKt",
   "language": "python",
   "name": "python3"
  },
  "language_info": {
   "codemirror_mode": {
    "name": "ipython",
    "version": 3
   },
   "file_extension": ".py",
   "mimetype": "text/x-python",
   "name": "python",
   "nbconvert_exporter": "python",
   "pygments_lexer": "ipython3",
   "version": "3.11.10"
  }
 },
 "nbformat": 4,
 "nbformat_minor": 2
}
